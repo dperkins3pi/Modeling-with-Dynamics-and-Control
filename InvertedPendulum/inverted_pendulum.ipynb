{
 "cells": [
  {
   "cell_type": "markdown",
   "metadata": {},
   "source": [
    "# Volume 4: Inverted Pendulum\n",
    "    Daniel Perkins\n",
    "    MATH 439\n",
    "    2/4/25"
   ]
  },
  {
   "cell_type": "code",
   "execution_count": 98,
   "metadata": {},
   "outputs": [],
   "source": [
    "import numpy as np\n",
    "from scipy.optimize import root\n",
    "from scipy.integrate import solve_ivp\n",
    "from scipy.linalg import solve_continuous_are\n",
    "import matplotlib.pyplot as plt\n",
    "from scipy.interpolate import CubicSpline\n",
    "from numpy.linalg import eig\n"
   ]
  },
  {
   "cell_type": "markdown",
   "metadata": {},
   "source": [
    "# Problem 1\n",
    "\n",
    "Write a function that returns the matrices A, B, Q, and R given above. Let\n",
    "g = 9.8 m/s\n",
    "2\n",
    "."
   ]
  },
  {
   "cell_type": "code",
   "execution_count": 99,
   "metadata": {},
   "outputs": [],
   "source": [
    "def linearized_init(M, m, l, q1, q2, q3, q4, r):\n",
    "      '''\n",
    "      Parameters:\n",
    "      ----------\n",
    "      M, m: floats\n",
    "            masses of the rickshaw and the present\n",
    "      l   : float\n",
    "            length of the rod\n",
    "      q1, q2, q3, q4, r : floats\n",
    "            relative weights of the position and velocity of the rickshaw, the\n",
    "            angular displacement theta and the change in theta, and the control\n",
    "\n",
    "\n",
    "      Return\n",
    "      -------\n",
    "      A : ndarray of shape (4,4)\n",
    "      B : ndarray of shape (4,1)\n",
    "      Q : ndarray of shape (4,4)\n",
    "      R : ndarray of shape (1,1)\n",
    "      '''\n",
    "      # Set g\n",
    "      g = 9.8\n",
    "      \n",
    "      # Make A\n",
    "      A = np.zeros((4, 4))\n",
    "      A[0, 1], A[2, 3] = 1, 1\n",
    "      A[1, 2] = (m*g)/M\n",
    "      A[3, 2] = (g/(M*l))*(M+m)\n",
    "      \n",
    "      # Make B\n",
    "      B = np.zeros(4)\n",
    "      B[1], B[3] = 1/M, 1/(M*l)\n",
    "      \n",
    "      # Make Q\n",
    "      Q = np.zeros((4, 4))\n",
    "      for i, q in enumerate([q1, q2, q3, q4]): Q[i,i]=q\n",
    "      \n",
    "      # Make R\n",
    "      R = np.array([[r]])\n",
    "      \n",
    "      return A, B.reshape((4, 1)), Q, R"
   ]
  },
  {
   "cell_type": "markdown",
   "metadata": {},
   "source": [
    "# Problem 2\n",
    "\n",
    "Write the following function to find the matrix $P$ using `scipy.optimize.root`.\n",
    "Since root takes in a vector and not a matrix, you will have to reshape the matrix P before\n",
    "passing it in and after getting your result, using `np.reshape(16)` and `np.reshape((4,4))`."
   ]
  },
  {
   "cell_type": "code",
   "execution_count": 184,
   "metadata": {},
   "outputs": [],
   "source": [
    "def find_P(A, B, Q, R):\n",
    "    '''\n",
    "    Parameters:\n",
    "    ----------\n",
    "    A, Q : ndarrays of shape (4,4)\n",
    "    B : ndarray of shape (4,1)\n",
    "    R : ndarray of shape (1,1)\n",
    "    \n",
    "    Returns\n",
    "    -------\n",
    "    P : the matrix solution of the Riccati equation\n",
    "    '''\n",
    "    def f(P):\n",
    "        P = P.reshape((4, 4))  # Reshape it to get a matrix\n",
    "        sum = P@A\n",
    "        sum += A.T@P\n",
    "        sum += Q\n",
    "        sum -= (P @ B @ (1/R)) @ B.T @ P\n",
    "        return sum.flatten()\n",
    "    \n",
    "    # Initial guess to find solution\n",
    "    initial_guess = np.ones(16)*.1\n",
    "    sol = root(f, initial_guess).x\n",
    "    P = sol.reshape((4, 4))\n",
    "    \n",
    "    return P"
   ]
  },
  {
   "cell_type": "code",
   "execution_count": 188,
   "metadata": {},
   "outputs": [
    {
     "name": "stdout",
     "output_type": "stream",
     "text": [
      "R=5.0\n",
      "P:\n",
      " [[   3.31318527   27.71070258   -2.17095788  -19.85960605]\n",
      " [  27.69900243  469.44071558  -16.66743876 -335.2588233 ]\n",
      " [  -2.17029374  -16.67590375 -274.23847645   11.73566339]\n",
      " [ -19.85123379 -335.25932002   11.73118012  331.85700635]]\n",
      "eigenvalues:\n",
      " [-1.72812265+0.j         -0.05988189+0.05894939j -0.05988189-0.05894939j\n",
      "  1.7259385 +0.j        ]\n",
      "\n",
      "R=10.0\n",
      "P:\n",
      " [[ 2.10451491e-04 -3.79877901e-01 -4.97349576e-03  2.33875398e-01]\n",
      " [-3.81746570e-01 -5.82828316e+00  9.60014881e-02  4.16519313e+00]\n",
      " [-4.97292967e-03  9.46668094e-02 -4.60893512e+00 -2.51956890e-01]\n",
      " [ 2.35210083e-01  4.16519121e+00 -2.73599358e-01 -1.42997386e+00]]\n",
      "eigenvalues:\n",
      " [-1.72703503  1.72701667 -0.0067195   0.00746282]\n",
      "\n",
      "It appears that 3 of the four eigenvalues are negative (if we have r=5) and only 2 are negative with r=10\n",
      "This means that for this P, it is possible that the solution does not converge to 0\n",
      "Note: I printed the values for two values of r because I was not sure which one was needed.\n"
     ]
    }
   ],
   "source": [
    "M, m = 23., 5.\n",
    "l = 4.\n",
    "q1, q2, q3, q4 = 1., 1., 1., 1.\n",
    "rs = [5.,10.]\n",
    "\n",
    "# Find P\n",
    "for r in rs:\n",
    "    print(f\"R={r}\")\n",
    "    A, B, Q, R = linearized_init(M, m, l, q1, q2, q3, q4, r)\n",
    "    P = find_P(A, B, Q, R)\n",
    "    print(\"P:\\n\", P)\n",
    "\n",
    "    # Compute the eigenvalues of A\n",
    "    left = A - B @ (1/R) @ B.T @ P\n",
    "    eigenvalues, eigenvectors = eig(left)\n",
    "    print(\"eigenvalues:\\n\", eigenvalues)\n",
    "    print()\n",
    "\n",
    "print(\"It appears that 3 of the four eigenvalues are negative (if we have r=5) and only 2 are negative with r=10\")\n",
    "print(\"This means that for this P, it is possible that the solution does not converge to 0\")\n",
    "print(\"Note: I printed the values for two values of r because I was not sure which one was needed.\")"
   ]
  },
  {
   "cell_type": "markdown",
   "metadata": {},
   "source": [
    "# Problem 3\n",
    " \n",
    "Write the following function that implements the LQR solution described earlier.\n",
    "Use `scipy.integrate.solve_ivp` to solve the IVP."
   ]
  },
  {
   "cell_type": "code",
   "execution_count": 185,
   "metadata": {},
   "outputs": [],
   "source": [
    "def rickshaw(tv, X0, A, B, Q, R, P):\n",
    "    '''\n",
    "    Parameters:\n",
    "    ----------\n",
    "    tv : tuple containing start and stop times (t0,tf) that can be passed into solve_ivp\n",
    "    X0 : Initial conditions on state variables\n",
    "    A, Q: ndarrays of shape (4,4)\n",
    "    B : ndarray of shape (4,1)\n",
    "    R : ndarray of shape (1,1)\n",
    "    P : ndarray of shape (4,4)\n",
    "    Returns\n",
    "    -------\n",
    "    Z : ndarray of shape (n+1,4), the state vector at each time\n",
    "    U : ndarray of shape (n+1,), the control values\n",
    "    '''\n",
    "    def ode(x, z):  # Equation 23.11\n",
    "        out = (A - B @ (1/R) @ B.T @ P) @ z  \n",
    "        return out\n",
    "    \n",
    "    t_eval = np.linspace(tv[0], tv[1], 200)  # 200 time steps\n",
    "    \n",
    "    # Solve the IVP\n",
    "    Z = solve_ivp(ode, tv, X0, t_eval=t_eval).y\n",
    "    \n",
    "    # Calculate the optimal control\n",
    "    U = (-(1/R) @ B.T @ P) @ Z\n",
    "    \n",
    "    return Z, U"
   ]
  },
  {
   "cell_type": "markdown",
   "metadata": {},
   "source": [
    "# Problem 4\n",
    "\n",
    "Test the function made in Problem (3). Find the matrix $P$ using the `scipy.optimize.root` method and plot with `tf=6` as well as the `solve_continuous_are`\n",
    "method and plot with `tf=60`. Plot the solutions $\\tilde{z}$ and $\\tilde{u}$. Compare your results to Figure\n",
    "21.3."
   ]
  },
  {
   "cell_type": "code",
   "execution_count": 190,
   "metadata": {},
   "outputs": [
    {
     "data": {
      "image/png": "[encoded data removed]",
      "text/plain": [
       "<Figure size 1000x400 with 2 Axes>"
      ]
     },
     "metadata": {},
     "output_type": "display_data"
    }
   ],
   "source": [
    "M, m = 23., 5.\n",
    "l = 4.\n",
    "q1, q2, q3, q4 = 1., 1., 1., 1.\n",
    "r = 10.\n",
    "tf = None\n",
    "X0 = np.array([-1, -1, .1, -.2])\n",
    "\n",
    "# Get A, B, Q, and R\n",
    "A, B, Q, R = linearized_init(M, m, l, q1, q2, q3, q4, r)\n",
    "\n",
    "# Find P with tf=6 now\n",
    "tf1 = 6\n",
    "ts1 = np.linspace(0, tf1, 200)\n",
    "P1 = find_P(A, B, Q, R)\n",
    "\n",
    "# Find P with solve_continuous_are method and tf=60\n",
    "tf2 = 60\n",
    "ts2 = np.linspace(0, tf2, 200)\n",
    "P2 = solve_continuous_are(A, B, Q, R)\n",
    "\n",
    "# Solve it\n",
    "Z1, U1 = rickshaw((0, tf1), X0, A, B, Q, R, P1)\n",
    "Z2, U2 = rickshaw((0, tf2), X0, A, B, Q, R, P2)\n",
    "\n",
    "# Plot it\n",
    "plt.figure(figsize=(10, 4))\n",
    "plt.subplot(121)\n",
    "plt.title(\"scipy.optimize.root\")\n",
    "plt.xlabel(\"t\")\n",
    "plt.plot(ts1, Z1[0], color=\"red\", label=\"X\")\n",
    "plt.plot(ts1, Z1[1], color=\"green\", label=\"X'\")\n",
    "plt.plot(ts1, Z1[2], color=\"blue\", label=r\"$\\theta$\")\n",
    "plt.plot(ts1, Z1[3], color=\"yellow\", label=r\"$\\theta'$\")\n",
    "plt.plot(ts1, U1[0], color=\"black\", label=r\"$\\tilde{u}$\")\n",
    "plt.xlim(0, 6)\n",
    "plt.ylim(-60, 20)\n",
    "plt.legend()\n",
    "\n",
    "plt.subplot(122)\n",
    "plt.title(\"solve_continuous_are\")\n",
    "plt.xlabel(\"t\")\n",
    "plt.plot(ts2, Z2[0], color=\"red\", label=\"X\")\n",
    "plt.plot(ts2, Z2[1], color=\"green\", label=\"X'\")\n",
    "plt.plot(ts2, Z2[2], color=\"blue\", label=r\"$\\theta$\")\n",
    "plt.plot(ts2, Z2[3], color=\"yellow\", label=r\"$\\theta'$\")\n",
    "plt.plot(ts2, U2[0], color=\"black\", label=r\"$\\tilde{u}$\")\n",
    "plt.xlim(0, 60)\n",
    "plt.ylim(-6, 6)\n",
    "plt.legend()\n",
    "plt.show()\n"
   ]
  },
  {
   "cell_type": "markdown",
   "metadata": {},
   "source": [
    "# Problem 5\n",
    "Use the control $\\tilde{u}$ that you found in problem 4 to solve the nonlinear equation\n",
    "\n",
    "$\\ddot x = \\frac{u+m\\sin\\theta(-l\\dot \\theta^2+g\\cos\\theta)}{M+m(1-\\cos^2\\theta)}$,\n",
    "\n",
    "\n",
    "$\\ddot{\\theta} = \\frac{g(m+M)\\sin\\theta+\\cos\\theta(u-lm\\dot\\theta^2\\sin\\theta)}{l(M+m(1-\\cos^2\\theta))}$."
   ]
  },
  {
   "cell_type": "code",
   "execution_count": null,
   "metadata": {},
   "outputs": [],
   "source": [
    "def nonlinear_ode(t, y, *params):\n",
    "    '''\n",
    "    Given y = (x, x', θ, θ'), return y' = (x', x'', θ', θ'').\n",
    "\n",
    "    Use args=(u, G, M, m, l) in your call to solve_ivp,\n",
    "    where u is your cubic spline interpolation of the control.\n",
    "\n",
    "    y[0] -- x\n",
    "    y[1] -- x prime\n",
    "    y[2] -- theta\n",
    "    y[3] -- theta prime\n",
    "    '''\n",
    "    x, xp, θ, θp = y\n",
    "\n",
    "    u, G, M, m, l = params\n",
    "\n",
    "    denom = M + m*(1 - np.cos(θ)**2)\n",
    "    return np.array([\n",
    "        xp,\n",
    "        (u(t) + m * np.sin(θ) * (- l * θp**2 + G * np.cos(θ))) / denom,\n",
    "        θp,\n",
    "        (G * (m + M) * np.sin(θ) + np.cos(θ) * (u(t) - l * m * θp**2 * np.sin(θ))) / (l * denom)\n",
    "    ])"
   ]
  },
  {
   "cell_type": "code",
   "execution_count": null,
   "metadata": {},
   "outputs": [],
   "source": []
  }
 ],
 "metadata": {
  "kernelspec": {
   "display_name": ".acme-venv",
   "language": "python",
   "name": "python3"
  },
  "language_info": {
   "codemirror_mode": {
    "name": "ipython",
    "version": 3
   },
   "file_extension": ".py",
   "mimetype": "text/x-python",
   "name": "python",
   "nbconvert_exporter": "python",
   "pygments_lexer": "ipython3",
   "version": "3.10.15"
  }
 },
 "nbformat": 4,
 "nbformat_minor": 4
}
