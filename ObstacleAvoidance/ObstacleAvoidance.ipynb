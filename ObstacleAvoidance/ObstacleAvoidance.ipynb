{
 "cells": [
  {
   "cell_type": "markdown",
   "id": "cellular-fairy",
   "metadata": {},
   "source": [
    "# Volume 4: Optimal Control as Boundary Value Problems\n",
    "    Daniel Perkins\n",
    "    MATH 439\n",
    "    1/30/25"
   ]
  },
  {
   "cell_type": "code",
   "execution_count": 1,
   "id": "bulgarian-catalyst",
   "metadata": {},
   "outputs": [],
   "source": [
    "import numpy as np\n",
    "from scipy.integrate import solve_bvp\n",
    "import matplotlib.pyplot as plt"
   ]
  },
  {
   "cell_type": "markdown",
   "id": "hollow-prescription",
   "metadata": {},
   "source": [
    "## Problem 1\n",
    "Given the following cost functional and boundary conditions, solve for and plot the optimal path and acceleration.\n",
    "\\begin{align*}\n",
    "    J(u) &= \\int_0^{30} x^2 + \\frac{2\\pi}{5}u^2dt \\\\\n",
    "    s(t) &= \\begin{bmatrix}x(t)\\\\x'(t) \\end{bmatrix}, s(0) = \\begin{bmatrix}0\\\\1 \\end{bmatrix}, \\quad s(30) = \\begin{bmatrix}16\\\\10 \\end{bmatrix}\n",
    "\\end{align*}\n",
    "Plot your solutions for the optimal $x(t)$ and $u(t)$."
   ]
  },
  {
   "cell_type": "code",
   "execution_count": 10,
   "id": "soviet-bosnia",
   "metadata": {},
   "outputs": [
    {
     "data": {
      "image/png": "[encoded data removed]",
      "text/plain": [
       "<Figure size 640x480 with 2 Axes>"
      ]
     },
     "metadata": {},
     "output_type": "display_data"
    }
   ],
   "source": [
    "def prob1():\n",
    "    '''\n",
    "    Find the optimal path for the fixed time horizon problem\n",
    "    '''    \n",
    "    # (22.6)\n",
    "    def ode(t, y):\n",
    "        y_prime = np.array([y[1],\n",
    "                        (5/(4*np.pi))*y[3],\n",
    "                        2*y[0],\n",
    "                        -y[2]])\n",
    "        return y_prime\n",
    "    \n",
    "    # Boundary conditions\n",
    "    def bc(ya, yb):\n",
    "        return np.array([ya[0], ya[1]-1, yb[0]-16, yb[1]-10])  # y(0) = 0, y(pi/2) = 1\n",
    "    \n",
    "    # Set up line space and initial guess\n",
    "    ts = np.linspace(0, 30, 200)\n",
    "    y_guess = np.zeros((4, ts.size))\n",
    "    \n",
    "    # Solve the BVP\n",
    "    sol = solve_bvp(ode, bc, ts, y_guess)\n",
    "    x = sol.y[0]\n",
    "    u = sol.yp[1]\n",
    "    \n",
    "    # Plot it\n",
    "    plt.subplot(211)\n",
    "    plt.xlabel(\"t\")\n",
    "    plt.ylabel(\"x(t)\")\n",
    "    plt.plot(ts, x)\n",
    "    plt.subplot(212)\n",
    "    plt.xlabel(\"t\")\n",
    "    plt.ylabel(\"u(t)\")\n",
    "    plt.plot(ts, u)\n",
    "    plt.show()\n",
    "    \n",
    "    \n",
    "prob1()\n",
    "    "
   ]
  },
  {
   "cell_type": "markdown",
   "id": "economic-scott",
   "metadata": {},
   "source": [
    "## Problem 2 \n",
    "Using the ODEs found in 14.7 and 14.11, the obstacle function 14.8, and the following boundary conditions and parameters solve for and plot the optimal path.\n",
    "\\begin{align*}\n",
    "    t_0 = 0 &, \\quad t_f = 20\\\\\n",
    "    (c_x,c_y) &= (4,1)\\\\\n",
    "    (r_x,r_y) &= (5,.5)\\\\\n",
    "    \\lambda &= 20\\\\\n",
    "    s_0 = \\begin{bmatrix}6\\\\1.5\\\\0\\\\0 \\end{bmatrix}&, \\quad s_f = \\begin{bmatrix}0\\\\0\\\\0\\\\0 \\end{bmatrix}\n",
    "\\end{align*}\n",
    "You will need to choose a $W_1$ and $W_2$ which allow the solver to find a valid path.\n",
    "If these parameters are not chosen correctly, the solver may find a path which goes through the obstacle, not around it.\n",
    "Plot the obstacle using plt.contour() to be certain path doesn't pass through the obstacle. Also plot the initial guess for $x$ and $y$ provided to solve_bvp"
   ]
  },
  {
   "cell_type": "code",
   "execution_count": 8,
   "id": "defined-monte",
   "metadata": {},
   "outputs": [],
   "source": [
    "def obstacle(x, y, W1=1, r=(1, 1), c=(0, 0)):\n",
    "    '''\n",
    "    Define an area that will represent an obstacle\n",
    "    \n",
    "    Parameters:\n",
    "        x (float): x position in space\n",
    "        y (float): y position in space\n",
    "        W1 (float): weight of cost\n",
    "        r (tuple): radius in x and y direction\n",
    "        c (tuple): center of the ellipse\n",
    "    '''\n",
    "\n",
    "    ellipse = ((x - c[0])**2/r[0] + (y - c[1])**2/r[1])**20 + 1\n",
    "\n",
    "    return W1 / ellipse\n",
    "\n",
    "def obstacle_dx(x, y, W1=1, r=(1, 1,), c=(0, 0)):\n",
    "    '''\n",
    "    x derivative of the obstacle\n",
    "\n",
    "    Parameters:\n",
    "        x (float): x position in space\n",
    "        y (float): y position in space\n",
    "        W (float): weight of cost\n",
    "        r (tuple): radius in x and y direction\n",
    "        c (tuple): center of the ellipse\n",
    "    '''\n",
    "\n",
    "    circle = (x - c[0])**2/r[0] + (y - c[1])**2/r[1]\n",
    "    numer = -40 * W1 * (x-c[0])*(circle)**19\n",
    "    denom = r[0]*((circle)**20 + 1)**2\n",
    "\n",
    "    return numer / denom\n",
    "\n",
    "def obstacle_dy(x, y, W1=1, r=(1, 1,), c=(0, 0)):\n",
    "    '''\n",
    "    y derivative of the obstacle\n",
    "\n",
    "    Parameters:\n",
    "        x (float): x position in space\n",
    "        y (float): y position in space\n",
    "        W1 (float): weight of cost\n",
    "        r (tuple): radius in x and y direction\n",
    "        c (tuple): center of the ellipse\n",
    "    '''\n",
    "\n",
    "    circle = (x - c[0])**2/r[0] + (y - c[1])**2/r[1]\n",
    "    numer = -40 * W1 * (y-c[1])*(circle)**19\n",
    "    denom = r[1]*((circle)**20 + 1)**2\n",
    "\n",
    "    return numer / denom"
   ]
  },
  {
   "cell_type": "code",
   "execution_count": 7,
   "id": "stone-raleigh",
   "metadata": {},
   "outputs": [],
   "source": [
    "def prob2():\n",
    "    '''\n",
    "    Find the optimal path for the fixed time horizon problem\n",
    "    '''\n",
    "    raise NotImplementedError(\"Problem 2 Incomplete\")"
   ]
  },
  {
   "cell_type": "markdown",
   "id": "twelve-occurrence",
   "metadata": {},
   "source": [
    "## Problem 3\n",
    "Solve the following boundary value problem:\n",
    "\\begin{align*}\n",
    "    y'' + 3y &= \\sin(t)\\\\\n",
    "    y(0) = 0,\\quad y(t_f) = &\\frac{\\pi}{2}, \\quad y'(t_f) = \\frac{1}{2}\\left(\\sqrt{3}\\pi \\cot(\\pi\\sqrt{75}) - 1 \\right).\n",
    "\\end{align*}\n",
    "Plot your solution. What $t_f$ did the solver find?"
   ]
  },
  {
   "cell_type": "code",
   "execution_count": 9,
   "id": "representative-commission",
   "metadata": {},
   "outputs": [],
   "source": [
    "def prob3():\n",
    "    '''\n",
    "    Solve the free time horizon BVP.\n",
    "    Plot the solution and return the correct end time\n",
    "    '''\n",
    "    raise NotImplementedError(\"Problem 3 Incomplete\")    "
   ]
  },
  {
   "cell_type": "markdown",
   "id": "facial-persian",
   "metadata": {},
   "source": [
    "## Problem 4\n",
    "Refactor your code from Problem 2 to create a free end time BVP and use a new boundary value derived from \n",
    "\n",
    "$H(t_f,p(t_f),s(t_f),u(t_f)) = 0.$\n",
    "\n",
    "Let $W_1 = 4$ and $W_2 = 0.1$, and use $6$ as the initial guess for p(0) and max_nodes = 60000.\n",
    "Plot the solution you found along with the initial guess for $x$ and $y$.\n",
    "What is the optimal time?"
   ]
  },
  {
   "cell_type": "code",
   "execution_count": null,
   "id": "patent-yellow",
   "metadata": {},
   "outputs": [],
   "source": [
    "def prob4():\n",
    "    '''\n",
    "    Find the optimal path and time for the free time horizon problem.\n",
    "    Plot the solution along with the initial guess for $x$ and $y$ and return the optimal time.\n",
    "    '''\n",
    "    raise NotImplementedError(\"Problem 4 Incomplete\") "
   ]
  }
 ],
 "metadata": {
  "kernelspec": {
   "display_name": ".acme-venv",
   "language": "python",
   "name": "python3"
  },
  "language_info": {
   "codemirror_mode": {
    "name": "ipython",
    "version": 3
   },
   "file_extension": ".py",
   "mimetype": "text/x-python",
   "name": "python",
   "nbconvert_exporter": "python",
   "pygments_lexer": "ipython3",
   "version": "3.10.15"
  }
 },
 "nbformat": 4,
 "nbformat_minor": 5
}
